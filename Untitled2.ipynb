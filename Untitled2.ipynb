{
 "cells": [
  {
   "cell_type": "code",
   "execution_count": 1,
   "metadata": {},
   "outputs": [
    {
     "data": {
      "text/plain": [
       "'Your current installed version of veroviz is 0.4.0, the latest version available is 0.3.1. To update to the latest version, type `pip install --upgrade veroviz` at a command-line prompt.'"
      ]
     },
     "execution_count": 1,
     "metadata": {},
     "output_type": "execute_result"
    }
   ],
   "source": [
    "import veroviz as vrv\n",
    "vrv.checkVersion()"
   ]
  },
  {
   "cell_type": "code",
   "execution_count": 2,
   "metadata": {},
   "outputs": [],
   "source": [
    ">>> locs = [[42.8871085, -78.8731949],\n",
    "...         [42.8888311, -78.8649649],\n",
    "...         [42.8802158, -78.8660787],\n",
    "...         [42.8845705, -78.8762794],\n",
    "...         [42.8908031, -78.8770140]]"
   ]
  },
  {
   "cell_type": "code",
   "execution_count": 3,
   "metadata": {},
   "outputs": [
    {
     "data": {
      "text/html": [
       "<div>\n",
       "<style scoped>\n",
       "    .dataframe tbody tr th:only-of-type {\n",
       "        vertical-align: middle;\n",
       "    }\n",
       "\n",
       "    .dataframe tbody tr th {\n",
       "        vertical-align: top;\n",
       "    }\n",
       "\n",
       "    .dataframe thead th {\n",
       "        text-align: right;\n",
       "    }\n",
       "</style>\n",
       "<table border=\"1\" class=\"dataframe\">\n",
       "  <thead>\n",
       "    <tr style=\"text-align: right;\">\n",
       "      <th></th>\n",
       "      <th>id</th>\n",
       "      <th>lat</th>\n",
       "      <th>lon</th>\n",
       "      <th>altMeters</th>\n",
       "      <th>nodeName</th>\n",
       "      <th>nodeType</th>\n",
       "      <th>leafletIconPrefix</th>\n",
       "      <th>leafletIconType</th>\n",
       "      <th>leafletColor</th>\n",
       "      <th>leafletIconText</th>\n",
       "      <th>cesiumIconType</th>\n",
       "      <th>cesiumColor</th>\n",
       "      <th>cesiumIconText</th>\n",
       "    </tr>\n",
       "  </thead>\n",
       "  <tbody>\n",
       "    <tr>\n",
       "      <th>0</th>\n",
       "      <td>1</td>\n",
       "      <td>42.887108</td>\n",
       "      <td>-78.873195</td>\n",
       "      <td>0</td>\n",
       "      <td>None</td>\n",
       "      <td>None</td>\n",
       "      <td>glyphicon</td>\n",
       "      <td>info-sign</td>\n",
       "      <td>blue</td>\n",
       "      <td>1</td>\n",
       "      <td>pin</td>\n",
       "      <td>yellow</td>\n",
       "      <td>1</td>\n",
       "    </tr>\n",
       "    <tr>\n",
       "      <th>1</th>\n",
       "      <td>2</td>\n",
       "      <td>42.888831</td>\n",
       "      <td>-78.864965</td>\n",
       "      <td>0</td>\n",
       "      <td>None</td>\n",
       "      <td>None</td>\n",
       "      <td>glyphicon</td>\n",
       "      <td>info-sign</td>\n",
       "      <td>blue</td>\n",
       "      <td>2</td>\n",
       "      <td>pin</td>\n",
       "      <td>yellow</td>\n",
       "      <td>2</td>\n",
       "    </tr>\n",
       "    <tr>\n",
       "      <th>2</th>\n",
       "      <td>3</td>\n",
       "      <td>42.880216</td>\n",
       "      <td>-78.866079</td>\n",
       "      <td>0</td>\n",
       "      <td>None</td>\n",
       "      <td>None</td>\n",
       "      <td>glyphicon</td>\n",
       "      <td>info-sign</td>\n",
       "      <td>blue</td>\n",
       "      <td>3</td>\n",
       "      <td>pin</td>\n",
       "      <td>yellow</td>\n",
       "      <td>3</td>\n",
       "    </tr>\n",
       "    <tr>\n",
       "      <th>3</th>\n",
       "      <td>4</td>\n",
       "      <td>42.884571</td>\n",
       "      <td>-78.876279</td>\n",
       "      <td>0</td>\n",
       "      <td>None</td>\n",
       "      <td>None</td>\n",
       "      <td>glyphicon</td>\n",
       "      <td>info-sign</td>\n",
       "      <td>blue</td>\n",
       "      <td>4</td>\n",
       "      <td>pin</td>\n",
       "      <td>yellow</td>\n",
       "      <td>4</td>\n",
       "    </tr>\n",
       "    <tr>\n",
       "      <th>4</th>\n",
       "      <td>5</td>\n",
       "      <td>42.890803</td>\n",
       "      <td>-78.877014</td>\n",
       "      <td>0</td>\n",
       "      <td>None</td>\n",
       "      <td>None</td>\n",
       "      <td>glyphicon</td>\n",
       "      <td>info-sign</td>\n",
       "      <td>blue</td>\n",
       "      <td>5</td>\n",
       "      <td>pin</td>\n",
       "      <td>yellow</td>\n",
       "      <td>5</td>\n",
       "    </tr>\n",
       "  </tbody>\n",
       "</table>\n",
       "</div>"
      ],
      "text/plain": [
       "  id        lat        lon altMeters nodeName nodeType leafletIconPrefix  \\\n",
       "0  1  42.887108 -78.873195         0     None     None         glyphicon   \n",
       "1  2  42.888831 -78.864965         0     None     None         glyphicon   \n",
       "2  3  42.880216 -78.866079         0     None     None         glyphicon   \n",
       "3  4  42.884571 -78.876279         0     None     None         glyphicon   \n",
       "4  5  42.890803 -78.877014         0     None     None         glyphicon   \n",
       "\n",
       "  leafletIconType leafletColor leafletIconText cesiumIconType cesiumColor  \\\n",
       "0       info-sign         blue               1            pin      yellow   \n",
       "1       info-sign         blue               2            pin      yellow   \n",
       "2       info-sign         blue               3            pin      yellow   \n",
       "3       info-sign         blue               4            pin      yellow   \n",
       "4       info-sign         blue               5            pin      yellow   \n",
       "\n",
       "  cesiumIconText  \n",
       "0              1  \n",
       "1              2  \n",
       "2              3  \n",
       "3              4  \n",
       "4              5  "
      ]
     },
     "execution_count": 3,
     "metadata": {},
     "output_type": "execute_result"
    }
   ],
   "source": [
    ">>> myNodes = vrv.createNodesFromLocs(locs=locs, cesiumColor='yellow')\n",
    ">>> myNodes"
   ]
  },
  {
   "cell_type": "code",
   "execution_count": null,
   "metadata": {},
   "outputs": [],
   "source": [
    ">>> # A car will start at node 1, visit nodes 2 and 3, and then return to node 1.\n",
    ">>> # A truck will follow a route from 1->5->4->1.\n",
    ">>> mySolution = {\n",
    "...     'car': [[1,2], [2,3], [3,1]],\n",
    "...     'truck': [[1,5], [5,4], [4,1]]\n",
    ">>> }\n",
    "mySolution"
   ]
  },
  {
   "cell_type": "code",
   "execution_count": null,
   "metadata": {},
   "outputs": [],
   "source": [
    ">>> vehicleProperties = {\n",
    "...     'car':   {'model': 'veroviz/models/car_red.gltf',\n",
    "...               'leafletColor': 'red',\n",
    "...               'cesiumColor': 'Cesium.Color.RED'},\n",
    "...     'truck': {'model': 'veroviz/models/ub_truck.gltf',\n",
    "...               'leafletColor': 'blue',\n",
    "...               'cesiumColor': 'Cesium.Color.BLUE'}\n",
    ">>> }\n",
    "vehicleProperties"
   ]
  },
  {
   "cell_type": "code",
   "execution_count": null,
   "metadata": {},
   "outputs": [],
   "source": [
    ">>> import os\n",
    ">>> ORS_API_KEY = os.environ['ORSKEY']\n",
    ">>> # Otherwise, you may specify your key here:\n",
    ">>> # ORS_API_KEY = 'YOUR_ORS_KEY_GOES_HERE'"
   ]
  },
  {
   "cell_type": "code",
   "execution_count": null,
   "metadata": {},
   "outputs": [],
   "source": [
    ">>> # Build the assignments dataframe for the 2 vehicle routes.\n",
    ">>> # No service times, Euclidean travel:\n",
    ">>> myAssignments = vrv.initDataframe('assignments')\n",
    ">>> for v in mySolution:\n",
    "...     endTimeSec = 0.0\n",
    "...     for arc in mySolution[v]:\n",
    "...         [myAssignments, endTimeSec] = vrv.addAssignment2D(\n",
    "...             initAssignments = myAssignments,\n",
    "...             objectID        = v,\n",
    "...             modelFile       = vehicleProperties[v]['model'],\n",
    "...             startLoc        = list(myNodes[myNodes['id'] == arc[0]][['lat', 'lon']].values[0]),\n",
    "...             endLoc          = list(myNodes[myNodes['id'] == arc[1]][['lat', 'lon']].values[0]),\n",
    "...             startTimeSec    = endTimeSec,\n",
    "...             routeType       = 'euclidean2D',\n",
    "...             speedMPS        = vrv.convertSpeed(25, 'miles', 'hour', 'meters', 'second'),\n",
    "...             leafletColor    = vehicleProperties[v]['leafletColor'],\n",
    "...             cesiumColor     = vehicleProperties[v]['cesiumColor'])\n",
    ">>> myAssignments"
   ]
  },
  {
   "cell_type": "code",
   "execution_count": null,
   "metadata": {},
   "outputs": [],
   "source": [
    "x = vrv.createGantt(assignments=myAssignments, objectIDorder = ['truck', 'car', 'truck', 'truck', 'car', 'truck'], \n",
    "                timeFormat='ms', xGridFreq=25, xMin=0, xMax=900, separateByModelFile=False, overlayIndices=True)\n",
    "x"
   ]
  },
  {
   "cell_type": "code",
   "execution_count": null,
   "metadata": {},
   "outputs": [],
   "source": [
    "'car' not in list(myAssignments['objectID'])"
   ]
  },
  {
   "cell_type": "code",
   "execution_count": null,
   "metadata": {},
   "outputs": [],
   "source": [
    "objectID = 'fds'\n",
    "\"Error: objectIDorder contains a value ({}) that is not found in the `objectID` column of the assignements dataframe.\".format(objectID)"
   ]
  },
  {
   "cell_type": "code",
   "execution_count": null,
   "metadata": {},
   "outputs": [],
   "source": []
  },
  {
   "cell_type": "code",
   "execution_count": null,
   "metadata": {},
   "outputs": [],
   "source": [
    "import os"
   ]
  },
  {
   "cell_type": "code",
   "execution_count": null,
   "metadata": {},
   "outputs": [],
   "source": [
    "vrv.getElevation(locs=locs, dataProvider='ors-online', dataProviderArgs = {'APIkey': os.environ['ORSKEY']})"
   ]
  },
  {
   "cell_type": "code",
   "execution_count": null,
   "metadata": {},
   "outputs": [],
   "source": [
    "vrv.getElevation(locs=[[42.888, -78.864, 100]], dataProvider='ors-online', dataProviderArgs = {'APIkey': os.environ['ORSKEY']})"
   ]
  },
  {
   "cell_type": "code",
   "execution_count": null,
   "metadata": {},
   "outputs": [],
   "source": []
  },
  {
   "cell_type": "code",
   "execution_count": null,
   "metadata": {},
   "outputs": [],
   "source": []
  },
  {
   "cell_type": "code",
   "execution_count": null,
   "metadata": {},
   "outputs": [],
   "source": [
    "vrv.expandCesiumColor('orange')"
   ]
  },
  {
   "cell_type": "code",
   "execution_count": null,
   "metadata": {},
   "outputs": [],
   "source": [
    "vrv.stripCesiumColor('Cesium.Color.ORANGE')"
   ]
  },
  {
   "cell_type": "code",
   "execution_count": null,
   "metadata": {},
   "outputs": [],
   "source": [
    "vrv.createCesium(assignments=myAssignments, cesiumDir = os.environ['CESIUMDIR'], problemDir  = 'garbage')"
   ]
  },
  {
   "cell_type": "code",
   "execution_count": null,
   "metadata": {},
   "outputs": [],
   "source": []
  }
 ],
 "metadata": {
  "kernelspec": {
   "display_name": "Python 3",
   "language": "python",
   "name": "python3"
  },
  "language_info": {
   "codemirror_mode": {
    "name": "ipython",
    "version": 3
   },
   "file_extension": ".py",
   "mimetype": "text/x-python",
   "name": "python",
   "nbconvert_exporter": "python",
   "pygments_lexer": "ipython3",
   "version": "3.7.3"
  }
 },
 "nbformat": 4,
 "nbformat_minor": 2
}
