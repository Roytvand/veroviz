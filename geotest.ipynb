{
 "cells": [
  {
   "cell_type": "code",
   "execution_count": 1,
   "metadata": {},
   "outputs": [
    {
     "data": {
      "text/plain": [
       "'Your current installed version of veroviz is 0.2.3, the latest version available is 0.2.2. To update to the latest version, type `pip install --upgrade veroviz` at a command-line prompt.'"
      ]
     },
     "execution_count": 1,
     "metadata": {},
     "output_type": "execute_result"
    }
   ],
   "source": [
    "# Import veroviz and check if the version is up-to-date:\n",
    ">>> import veroviz as vrv\n",
    "\n",
    ">>> vrv.checkVersion()"
   ]
  },
  {
   "cell_type": "code",
   "execution_count": 2,
   "metadata": {},
   "outputs": [],
   "source": [
    "# The following examples assume the use of ORS as the data provider. If you have saved your API key as an environment variable, you may use `os.environ` to access it:\n",
    ">>> import os\n",
    "\n",
    ">>> ORS_API_KEY = os.environ['ORSKEY']\n",
    ">>> MQ_API_KEY = os.environ['MAPQUESTKEY']\n",
    "\n",
    ">>> # Otherwise, you may specify your keys here:\n",
    ">>> # ORS_API_KEY = 'YOUR_ORS_KEY_GOES_HERE'\n",
    ">>> # MQ_API_KEY = 'YOUR_MAPQUEST_KEY_GOES_HERE'"
   ]
  },
  {
   "cell_type": "code",
   "execution_count": 9,
   "metadata": {},
   "outputs": [
    {
     "data": {
      "text/plain": [
       "[51.5008719, -0.1252387]"
      ]
     },
     "execution_count": 9,
     "metadata": {},
     "output_type": "execute_result"
    }
   ],
   "source": [
    "# Example 1 - Find [lat, lon] of Buckingham Palace, without specifying a data provider:\n",
    ">>> myLoc = vrv.geocode(location='Westminster, London SW1A 1AA, United Kingdom')\n",
    ">>> myLoc"
   ]
  },
  {
   "cell_type": "code",
   "execution_count": 14,
   "metadata": {},
   "outputs": [
    {
     "data": {
      "text/plain": [
       "[51.497991, -0.12875]"
      ]
     },
     "execution_count": 14,
     "metadata": {},
     "output_type": "execute_result"
    }
   ],
   "source": [
    "# Example 2 - Find [lat, lon] of Buckingham Palace, using ORS-online as the data provider:\n",
    ">>> myLoc = vrv.geocode(location         ='Westminster, London SW1A 1AA, United Kingdom', \n",
    "...                     dataProvider     ='ors-online', \n",
    "...                     dataProviderArgs = {'APIkey': ORS_API_KEY})\n",
    ">>> myLoc"
   ]
  },
  {
   "cell_type": "code",
   "execution_count": 6,
   "metadata": {},
   "outputs": [
    {
     "data": {
      "text/plain": [
       "[47.603229, -122.33028]"
      ]
     },
     "execution_count": 6,
     "metadata": {},
     "output_type": "execute_result"
    }
   ],
   "source": [
    "# Example 3 - Find [lat, lon] of Seattle, Washington, USA:\n",
    ">>> myLoc = vrv.geocode(location         ='seattle, wa', \n",
    "...                     dataProvider     ='mapquest', \n",
    "...                     dataProviderArgs = {'APIkey': MQ_API_KEY})\n",
    ">>> myLoc"
   ]
  },
  {
   "cell_type": "code",
   "execution_count": 7,
   "metadata": {},
   "outputs": [
    {
     "data": {
      "text/plain": [
       "[27.97762, -81.769611]"
      ]
     },
     "execution_count": 7,
     "metadata": {},
     "output_type": "execute_result"
    }
   ],
   "source": [
    "# Example 4 - Find [lat, lon] of the state of Florida, USA:\n",
    ">>> myLoc = vrv.geocode(location         ='florida', \n",
    "...                     dataProvider     ='ors-ONLINE', \n",
    "...                     dataProviderArgs = {'APIkey': ORS_API_KEY})\n",
    ">>> myLoc"
   ]
  },
  {
   "cell_type": "code",
   "execution_count": 8,
   "metadata": {},
   "outputs": [
    {
     "data": {
      "text/plain": [
       "[47.620336, -122.349314]"
      ]
     },
     "execution_count": 8,
     "metadata": {},
     "output_type": "execute_result"
    }
   ],
   "source": [
    "# Example 5 - Find [lat, lon] of the Space Needle (in Seattle, WA):\n",
    ">>> myLoc = vrv.geocode(location         ='space needle', \n",
    "...                     dataProvider     ='ors-ONLINE', \n",
    "...                     dataProviderArgs = {'APIkey': ORS_API_KEY})\n",
    ">>> myLoc"
   ]
  },
  {
   "cell_type": "code",
   "execution_count": 15,
   "metadata": {},
   "outputs": [
    {
     "data": {
      "text/html": [
       "<div style=\"width:100%;\"><div style=\"position:relative;width:100%;height:0;padding-bottom:60%;\"><iframe src=\"data:text/html;charset=utf-8;base64,PCFET0NUWVBFIGh0bWw+CjxoZWFkPiAgICAKICAgIDxtZXRhIGh0dHAtZXF1aXY9ImNvbnRlbnQtdHlwZSIgY29udGVudD0idGV4dC9odG1sOyBjaGFyc2V0PVVURi04IiAvPgogICAgCiAgICAgICAgPHNjcmlwdD4KICAgICAgICAgICAgTF9OT19UT1VDSCA9IGZhbHNlOwogICAgICAgICAgICBMX0RJU0FCTEVfM0QgPSBmYWxzZTsKICAgICAgICA8L3NjcmlwdD4KICAgIAogICAgPHNjcmlwdCBzcmM9Imh0dHBzOi8vY2RuLmpzZGVsaXZyLm5ldC9ucG0vbGVhZmxldEAxLjUuMS9kaXN0L2xlYWZsZXQuanMiPjwvc2NyaXB0PgogICAgPHNjcmlwdCBzcmM9Imh0dHBzOi8vY29kZS5qcXVlcnkuY29tL2pxdWVyeS0xLjEyLjQubWluLmpzIj48L3NjcmlwdD4KICAgIDxzY3JpcHQgc3JjPSJodHRwczovL21heGNkbi5ib290c3RyYXBjZG4uY29tL2Jvb3RzdHJhcC8zLjIuMC9qcy9ib290c3RyYXAubWluLmpzIj48L3NjcmlwdD4KICAgIDxzY3JpcHQgc3JjPSJodHRwczovL2NkbmpzLmNsb3VkZmxhcmUuY29tL2FqYXgvbGlicy9MZWFmbGV0LmF3ZXNvbWUtbWFya2Vycy8yLjAuMi9sZWFmbGV0LmF3ZXNvbWUtbWFya2Vycy5qcyI+PC9zY3JpcHQ+CiAgICA8bGluayByZWw9InN0eWxlc2hlZXQiIGhyZWY9Imh0dHBzOi8vY2RuLmpzZGVsaXZyLm5ldC9ucG0vbGVhZmxldEAxLjUuMS9kaXN0L2xlYWZsZXQuY3NzIi8+CiAgICA8bGluayByZWw9InN0eWxlc2hlZXQiIGhyZWY9Imh0dHBzOi8vbWF4Y2RuLmJvb3RzdHJhcGNkbi5jb20vYm9vdHN0cmFwLzMuMi4wL2Nzcy9ib290c3RyYXAubWluLmNzcyIvPgogICAgPGxpbmsgcmVsPSJzdHlsZXNoZWV0IiBocmVmPSJodHRwczovL21heGNkbi5ib290c3RyYXBjZG4uY29tL2Jvb3RzdHJhcC8zLjIuMC9jc3MvYm9vdHN0cmFwLXRoZW1lLm1pbi5jc3MiLz4KICAgIDxsaW5rIHJlbD0ic3R5bGVzaGVldCIgaHJlZj0iaHR0cHM6Ly9tYXhjZG4uYm9vdHN0cmFwY2RuLmNvbS9mb250LWF3ZXNvbWUvNC42LjMvY3NzL2ZvbnQtYXdlc29tZS5taW4uY3NzIi8+CiAgICA8bGluayByZWw9InN0eWxlc2hlZXQiIGhyZWY9Imh0dHBzOi8vY2RuanMuY2xvdWRmbGFyZS5jb20vYWpheC9saWJzL0xlYWZsZXQuYXdlc29tZS1tYXJrZXJzLzIuMC4yL2xlYWZsZXQuYXdlc29tZS1tYXJrZXJzLmNzcyIvPgogICAgPGxpbmsgcmVsPSJzdHlsZXNoZWV0IiBocmVmPSJodHRwczovL3Jhd2Nkbi5naXRoYWNrLmNvbS9weXRob24tdmlzdWFsaXphdGlvbi9mb2xpdW0vbWFzdGVyL2ZvbGl1bS90ZW1wbGF0ZXMvbGVhZmxldC5hd2Vzb21lLnJvdGF0ZS5jc3MiLz4KICAgIDxzdHlsZT5odG1sLCBib2R5IHt3aWR0aDogMTAwJTtoZWlnaHQ6IDEwMCU7bWFyZ2luOiAwO3BhZGRpbmc6IDA7fTwvc3R5bGU+CiAgICA8c3R5bGU+I21hcCB7cG9zaXRpb246YWJzb2x1dGU7dG9wOjA7Ym90dG9tOjA7cmlnaHQ6MDtsZWZ0OjA7fTwvc3R5bGU+CiAgICAKICAgICAgICAgICAgPG1ldGEgbmFtZT0idmlld3BvcnQiIGNvbnRlbnQ9IndpZHRoPWRldmljZS13aWR0aCwKICAgICAgICAgICAgICAgIGluaXRpYWwtc2NhbGU9MS4wLCBtYXhpbXVtLXNjYWxlPTEuMCwgdXNlci1zY2FsYWJsZT1ubyIgLz4KICAgICAgICAgICAgPHN0eWxlPgogICAgICAgICAgICAgICAgI21hcF9iMzFjZDE3NjZmODI0YTQ1YTkyZDY4MjNlMTU3Njk3MyB7CiAgICAgICAgICAgICAgICAgICAgcG9zaXRpb246IHJlbGF0aXZlOwogICAgICAgICAgICAgICAgICAgIHdpZHRoOiAxMDAuMCU7CiAgICAgICAgICAgICAgICAgICAgaGVpZ2h0OiAxMDAuMCU7CiAgICAgICAgICAgICAgICAgICAgbGVmdDogMC4wJTsKICAgICAgICAgICAgICAgICAgICB0b3A6IDAuMCU7CiAgICAgICAgICAgICAgICB9CiAgICAgICAgICAgIDwvc3R5bGU+CiAgICAgICAgCjwvaGVhZD4KPGJvZHk+ICAgIAogICAgCiAgICAgICAgICAgIDxkaXYgY2xhc3M9ImZvbGl1bS1tYXAiIGlkPSJtYXBfYjMxY2QxNzY2ZjgyNGE0NWE5MmQ2ODIzZTE1NzY5NzMiID48L2Rpdj4KICAgICAgICAKPC9ib2R5Pgo8c2NyaXB0PiAgICAKICAgIAogICAgICAgICAgICB2YXIgbWFwX2IzMWNkMTc2NmY4MjRhNDVhOTJkNjgyM2UxNTc2OTczID0gTC5tYXAoCiAgICAgICAgICAgICAgICAibWFwX2IzMWNkMTc2NmY4MjRhNDVhOTJkNjgyM2UxNTc2OTczIiwKICAgICAgICAgICAgICAgIHsKICAgICAgICAgICAgICAgICAgICBjZW50ZXI6IFs1MS40OTc5OTEsIC0wLjEyODc1XSwKICAgICAgICAgICAgICAgICAgICBjcnM6IEwuQ1JTLkVQU0czODU3LAogICAgICAgICAgICAgICAgICAgIHpvb206IDEwLAogICAgICAgICAgICAgICAgICAgIHpvb21Db250cm9sOiB0cnVlLAogICAgICAgICAgICAgICAgICAgIHByZWZlckNhbnZhczogZmFsc2UsCiAgICAgICAgICAgICAgICB9CiAgICAgICAgICAgICk7CgogICAgICAgICAgICAKCiAgICAgICAgCiAgICAKICAgICAgICAgICAgdmFyIHRpbGVfbGF5ZXJfNzNjNDFmM2FjYmFlNDE5YWJlYmQ3MTBhYzRiM2U3NTUgPSBMLnRpbGVMYXllcigKICAgICAgICAgICAgICAgICJodHRwczovL2NhcnRvZGItYmFzZW1hcHMte3N9Lmdsb2JhbC5zc2wuZmFzdGx5Lm5ldC9saWdodF9hbGwve3p9L3t4fS97eX0ucG5nIiwKICAgICAgICAgICAgICAgIHsiYXR0cmlidXRpb24iOiAiXHUwMDI2Y29weTsgXHUwMDNjYSBocmVmPVwiaHR0cDovL3d3dy5vcGVuc3RyZWV0bWFwLm9yZy9jb3B5cmlnaHRcIlx1MDAzZU9wZW5TdHJlZXRNYXBcdTAwM2MvYVx1MDAzZSBjb250cmlidXRvcnMgXHUwMDI2Y29weTsgXHUwMDNjYSBocmVmPVwiaHR0cDovL2NhcnRvZGIuY29tL2F0dHJpYnV0aW9uc1wiXHUwMDNlQ2FydG9EQlx1MDAzYy9hXHUwMDNlLCBDYXJ0b0RCIFx1MDAzY2EgaHJlZiA9XCJodHRwOi8vY2FydG9kYi5jb20vYXR0cmlidXRpb25zXCJcdTAwM2VhdHRyaWJ1dGlvbnNcdTAwM2MvYVx1MDAzZSIsICJkZXRlY3RSZXRpbmEiOiBmYWxzZSwgIm1heE5hdGl2ZVpvb20iOiAxOCwgIm1heFpvb20iOiAxOCwgIm1pblpvb20iOiAwLCAibm9XcmFwIjogZmFsc2UsICJvcGFjaXR5IjogMSwgInN1YmRvbWFpbnMiOiAiYWJjIiwgInRtcyI6IGZhbHNlfQogICAgICAgICAgICApLmFkZFRvKG1hcF9iMzFjZDE3NjZmODI0YTQ1YTkyZDY4MjNlMTU3Njk3Myk7CiAgICAgICAgCiAgICAKICAgICAgICAgICAgdmFyIGNpcmNsZV9tYXJrZXJfYzVlYjZmNGNmODY2NDE2Yjg1MzgwMzJlYTMwODgyNDQgPSBMLmNpcmNsZU1hcmtlcigKICAgICAgICAgICAgICAgIFs1MS40OTc5OTEsIC0wLjEyODc1XSwKICAgICAgICAgICAgICAgIHsiYnViYmxpbmdNb3VzZUV2ZW50cyI6IHRydWUsICJjb2xvciI6IG51bGwsICJkYXNoQXJyYXkiOiBudWxsLCAiZGFzaE9mZnNldCI6IG51bGwsICJmaWxsIjogdHJ1ZSwgImZpbGxDb2xvciI6ICJyZWQiLCAiZmlsbE9wYWNpdHkiOiAwLjMsICJmaWxsUnVsZSI6ICJldmVub2RkIiwgImxpbmVDYXAiOiAicm91bmQiLCAibGluZUpvaW4iOiAicm91bmQiLCAib3BhY2l0eSI6IDAuOCwgInJhZGl1cyI6IDUsICJzdHJva2UiOiB0cnVlLCAid2VpZ2h0IjogM30KICAgICAgICAgICAgKS5hZGRUbyhtYXBfYjMxY2QxNzY2ZjgyNGE0NWE5MmQ2ODIzZTE1NzY5NzMpOwogICAgICAgIAo8L3NjcmlwdD4=\" style=\"position:absolute;width:100%;height:100%;left:0;top:0;border:none !important;\" allowfullscreen webkitallowfullscreen mozallowfullscreen></iframe></div></div>"
      ],
      "text/plain": [
       "<folium.folium.Map at 0x105b3c320>"
      ]
     },
     "execution_count": 15,
     "metadata": {},
     "output_type": "execute_result"
    }
   ],
   "source": [
    "# Draw the geocoded location as a red dot on a Leaflet map:\t\n",
    ">>> vrv.addLeafletMarker(center=myLoc)"
   ]
  },
  {
   "cell_type": "markdown",
   "metadata": {},
   "source": [
    "#### Reverse Geocode:"
   ]
  },
  {
   "cell_type": "code",
   "execution_count": null,
   "metadata": {},
   "outputs": [],
   "source": [
    "# Import veroviz and check if the version is up-to-date:\n",
    ">>> import veroviz as vrv\n",
    "\n",
    ">>> vrv.checkVersion()"
   ]
  },
  {
   "cell_type": "code",
   "execution_count": 5,
   "metadata": {},
   "outputs": [],
   "source": [
    "# The following examples assume the use of ORS as the data provider. If you have saved your API key as an environment variable, you may use `os.environ` to access it:\n",
    ">>> import os\n",
    "\n",
    ">>> ORS_API_KEY = os.environ['ORSKEY']\n",
    ">>> MQ_API_KEY = os.environ['MAPQUESTKEY']\n",
    "\n",
    ">>> # Otherwise, you may specify your keys here:\n",
    ">>> # ORS_API_KEY = 'YOUR_ORS_KEY_GOES_HERE'\n",
    ">>> # MQ_API_KEY = 'YOUR_MAPQUEST_KEY_GOES_HERE'"
   ]
  },
  {
   "cell_type": "code",
   "execution_count": 16,
   "metadata": {},
   "outputs": [
    {
     "data": {
      "text/plain": [
       "[47.6030474, -122.3302567]"
      ]
     },
     "execution_count": 16,
     "metadata": {},
     "output_type": "execute_result"
    }
   ],
   "source": [
    "# Example 1 -- Without specifying a dataProvider:\n",
    ">>> (loc, addr) = vrv.reverseGeocode(location=[47.603229, -122.33028])\n",
    ">>> loc"
   ]
  },
  {
   "cell_type": "code",
   "execution_count": 17,
   "metadata": {},
   "outputs": [
    {
     "data": {
      "text/plain": [
       "{'place_id': 18472401,\n",
       " 'licence': 'Data © OpenStreetMap contributors, ODbL 1.0. https://osm.org/copyright',\n",
       " 'osm_type': 'node',\n",
       " 'osm_id': 1769027877,\n",
       " 'lat': '47.6030474',\n",
       " 'lon': '-122.3302567',\n",
       " 'display_name': 'SDOT, 4th Avenue, West Edge, International District/Chinatown, Seattle, King County, Washington, 98104, United States',\n",
       " 'address': {'bicycle_parking': 'SDOT',\n",
       "  'road': '4th Avenue',\n",
       "  'neighbourhood': 'West Edge',\n",
       "  'suburb': 'International District/Chinatown',\n",
       "  'city': 'Seattle',\n",
       "  'county': 'King County',\n",
       "  'state': 'Washington',\n",
       "  'postcode': '98104',\n",
       "  'country': 'United States',\n",
       "  'country_code': 'us'},\n",
       " 'boundingbox': ['47.6029474', '47.6031474', '-122.3303567', '-122.3301567']}"
      ]
     },
     "execution_count": 17,
     "metadata": {},
     "output_type": "execute_result"
    }
   ],
   "source": [
    ">>> addr"
   ]
  },
  {
   "cell_type": "code",
   "execution_count": 18,
   "metadata": {},
   "outputs": [],
   "source": [
    "# Example 2 -- Using MapQuest:\n",
    ">>> [loc, addr] = vrv.reverseGeocode(location         = [47.603229, -122.33028], \n",
    "...                                  dataProvider     = 'MapQuest', \n",
    "...                                  dataProviderArgs = {'APIkey': MQ_API_KEY})"
   ]
  },
  {
   "cell_type": "code",
   "execution_count": 19,
   "metadata": {},
   "outputs": [
    {
     "data": {
      "text/plain": [
       "[47.603229, -122.33028]"
      ]
     },
     "execution_count": 19,
     "metadata": {},
     "output_type": "execute_result"
    }
   ],
   "source": [
    ">>> loc"
   ]
  },
  {
   "cell_type": "code",
   "execution_count": 20,
   "metadata": {},
   "outputs": [
    {
     "data": {
      "text/plain": [
       "{'street': '431 James St',\n",
       " 'adminArea6': '',\n",
       " 'adminArea6Type': 'Neighborhood',\n",
       " 'adminArea5': 'Seattle',\n",
       " 'adminArea5Type': 'City',\n",
       " 'adminArea4': 'King',\n",
       " 'adminArea4Type': 'County',\n",
       " 'adminArea3': 'WA',\n",
       " 'adminArea3Type': 'State',\n",
       " 'adminArea1': 'US',\n",
       " 'adminArea1Type': 'Country',\n",
       " 'postalCode': '98104',\n",
       " 'geocodeQualityCode': 'L1AAA',\n",
       " 'geocodeQuality': 'ADDRESS',\n",
       " 'dragPoint': False,\n",
       " 'sideOfStreet': 'R',\n",
       " 'linkId': '0',\n",
       " 'unknownInput': '',\n",
       " 'type': 's',\n",
       " 'latLng': {'lat': 47.603229, 'lng': -122.33028},\n",
       " 'displayLatLng': {'lat': 47.603229, 'lng': -122.33028},\n",
       " 'nearestIntersection': {'streetDisplayName': '4th Ave',\n",
       "  'distanceMeters': '0.0',\n",
       "  'latLng': {'longitude': -122.33028, 'latitude': 47.603229},\n",
       "  'label': 'James St & 4th Ave'},\n",
       " 'roadMetadata': {'speedLimitUnits': 'mph',\n",
       "  'tollRoad': None,\n",
       "  'speedLimit': 25}}"
      ]
     },
     "execution_count": 20,
     "metadata": {},
     "output_type": "execute_result"
    }
   ],
   "source": [
    ">>> addr"
   ]
  },
  {
   "cell_type": "code",
   "execution_count": 21,
   "metadata": {},
   "outputs": [],
   "source": [
    "# Example 3 -- Using OpenRouteService:\n",
    ">>> [loc, addr] = vrv.reverseGeocode(location         = [47.603229, -122.33028], \n",
    "...                                  dataProvider     = 'ORS-online', \n",
    "...                                  dataProviderArgs = {'APIkey': ORS_API_KEY})"
   ]
  },
  {
   "cell_type": "code",
   "execution_count": 22,
   "metadata": {},
   "outputs": [
    {
     "data": {
      "text/plain": [
       "[47.603077, -122.330139]"
      ]
     },
     "execution_count": 22,
     "metadata": {},
     "output_type": "execute_result"
    }
   ],
   "source": [
    ">>> loc"
   ]
  },
  {
   "cell_type": "code",
   "execution_count": 23,
   "metadata": {},
   "outputs": [
    {
     "data": {
      "text/plain": [
       "{'id': 'node/4491511984',\n",
       " 'gid': 'openstreetmap:venue:node/4491511984',\n",
       " 'layer': 'venue',\n",
       " 'source': 'openstreetmap',\n",
       " 'source_id': 'node/4491511984',\n",
       " 'name': '4th Ave & James St',\n",
       " 'confidence': 0.8,\n",
       " 'distance': 0.02,\n",
       " 'accuracy': 'point',\n",
       " 'country': 'United States',\n",
       " 'country_gid': 'whosonfirst:country:85633793',\n",
       " 'country_a': 'USA',\n",
       " 'region': 'Washington',\n",
       " 'region_gid': 'whosonfirst:region:85688623',\n",
       " 'region_a': 'WA',\n",
       " 'county': 'King County',\n",
       " 'county_gid': 'whosonfirst:county:102086191',\n",
       " 'county_a': 'KN',\n",
       " 'locality': 'Seattle',\n",
       " 'locality_gid': 'whosonfirst:locality:101730401',\n",
       " 'neighbourhood': 'Pioneer Square',\n",
       " 'neighbourhood_gid': 'whosonfirst:neighbourhood:85866047',\n",
       " 'continent': 'North America',\n",
       " 'continent_gid': 'whosonfirst:continent:102191575',\n",
       " 'label': '4th Ave & James St, Seattle, WA, USA'}"
      ]
     },
     "execution_count": 23,
     "metadata": {},
     "output_type": "execute_result"
    }
   ],
   "source": [
    ">>> addr"
   ]
  },
  {
   "cell_type": "code",
   "execution_count": null,
   "metadata": {},
   "outputs": [],
   "source": []
  }
 ],
 "metadata": {
  "kernelspec": {
   "display_name": "Python 3",
   "language": "python",
   "name": "python3"
  },
  "language_info": {
   "codemirror_mode": {
    "name": "ipython",
    "version": 3
   },
   "file_extension": ".py",
   "mimetype": "text/x-python",
   "name": "python",
   "nbconvert_exporter": "python",
   "pygments_lexer": "ipython3",
   "version": "3.7.3"
  }
 },
 "nbformat": 4,
 "nbformat_minor": 2
}
